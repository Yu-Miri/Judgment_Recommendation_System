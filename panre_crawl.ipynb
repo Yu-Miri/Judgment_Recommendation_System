{
  "cells": [
    {
      "cell_type": "markdown",
      "id": "01b4bd58",
      "metadata": {
        "id": "01b4bd58"
      },
      "source": [
        "### 필요한 Library 설치"
      ]
    },
    {
      "cell_type": "code",
      "execution_count": 9,
      "id": "826b076e-f783-4e52-b1ea-8e7d3a834e55",
      "metadata": {
        "id": "826b076e-f783-4e52-b1ea-8e7d3a834e55"
      },
      "outputs": [],
      "source": [
        "from bs4 import BeautifulSoup as bs\n",
        "import pandas as pd\n",
        "import requests\n",
        "from tqdm.notebook import tqdm\n",
        "import time\n",
        "import os"
      ]
    },
    {
      "cell_type": "markdown",
      "id": "3973ef12",
      "metadata": {
        "id": "3973ef12"
      },
      "source": [
        "### 케이스 노트의 url 선언"
      ]
    },
    {
      "cell_type": "code",
      "execution_count": 3,
      "id": "f093bd38-4e4c-4b70-8ba3-c9e496190736",
      "metadata": {
        "colab": {
          "base_uri": "https://localhost:8080/"
        },
        "id": "f093bd38-4e4c-4b70-8ba3-c9e496190736",
        "outputId": "c8a3d7c5-ea03-4539-9713-2799a3ca8a70"
      },
      "outputs": [
        {
          "output_type": "stream",
          "name": "stdout",
          "text": [
            "/%EB%8C%80%EB%B2%95%EC%9B%90/2020%EB%8F%841153\n",
            "/%EC%88%98%EC%9B%90%EC%A7%80%EB%B0%A9%EB%B2%95%EC%9B%90/2016%EB%85%B82190\n",
            "/%EA%B4%91%EC%A3%BC%EC%A7%80%EB%B0%A9%EB%B2%95%EC%9B%90/2020%EA%B5%AC%ED%95%A915277\n",
            "/%EC%88%98%EC%9B%90%EC%A7%80%EB%B0%A9%EB%B2%95%EC%9B%90/2015%EB%85%B86073\n",
            "/%EB%8C%80%EB%B2%95%EC%9B%90/2012%EB%8F%845090\n",
            "/%EB%8C%80%EA%B5%AC%EC%A7%80%EB%B0%A9%EB%B2%95%EC%9B%90/2012%EB%85%B8653\n",
            "/%EC%B0%BD%EC%9B%90%EC%A7%80%EB%B0%A9%EB%B2%95%EC%9B%90/2018%EA%B5%AC%EB%8B%A812153\n",
            "/%EB%8C%80%EA%B5%AC%EC%A7%80%EB%B0%A9%EB%B2%95%EC%9B%90/2018%EA%B5%AC%ED%95%A921875\n",
            "/%EC%B6%98%EC%B2%9C%EC%A7%80%EB%B0%A9%EB%B2%95%EC%9B%90/2014%EA%B3%A0%ED%95%A942\n",
            "/%EC%9A%B8%EC%82%B0%EC%A7%80%EB%B0%A9%EB%B2%95%EC%9B%90/2016%EA%B3%A0%ED%95%A9423\n"
          ]
        }
      ],
      "source": [
        "url = 'https://casenote.kr/search/?q=%ED%8F%AD%EB%A0%A5'\n",
        "resp = requests.get(url)\n",
        "soup = bs(resp.content, 'lxml')\n",
        "\n",
        "item = soup.select('div.title a') # item에 원하는 판례의 url을 가지고 오기 위해 판례별 고유 title(id)를 가지고 온다.\n",
        "for i in item:\n",
        "    print(i['href']) # 고유의 title 내부의 href를 가지고 온다."
      ]
    },
    {
      "cell_type": "markdown",
      "id": "2a86a5d9",
      "metadata": {
        "id": "2a86a5d9"
      },
      "source": [
        "### 크롤링을 위한 함수 구현"
      ]
    },
    {
      "cell_type": "code",
      "execution_count": 5,
      "id": "3aacebfa-12a9-40d3-a778-df325ad292d7",
      "metadata": {
        "id": "3aacebfa-12a9-40d3-a778-df325ad292d7"
      },
      "outputs": [],
      "source": [
        "## 원하는 주제의 각 판례들의url을 가지고 오기 위한 함수\n",
        "def get_url(topic):\n",
        "    url_list = []\n",
        "    for i in tqdm(range(1,21)): # casenote 페이지는 각 주제당 무료버전의 경우 최대 21page까지 제공한다.\n",
        "        url = f'https://casenote.kr/search/?q={topic}&page={i}' # 각 주제의 url을 만들어준다.\n",
        "        resp = requests.get(url) # url을 통해 html을 가져온다.\n",
        "        soup = bs(resp.content, 'lxml') # html을 파싱한다.\n",
        "        item = soup.select('div.title a') # 각 판례의 고유 title을 가지고 온다.\n",
        "        for i in item: # 각 판례의 고유 title 내부의 href 즉 각 주소를 가지고 온다.\n",
        "            url_list.append('https://casenote.kr'+i['href']) # 각 판례의 url을 url_list에 저장한다.\n",
        "\n",
        "\n",
        "    return url_list # 각 판례의 url을 가지고 있는 url_list를 반환한다."
      ]
    },
    {
      "cell_type": "code",
      "execution_count": 6,
      "id": "18050c7b-4e33-4166-aa8b-cbeaedbb865c",
      "metadata": {
        "id": "18050c7b-4e33-4166-aa8b-cbeaedbb865c"
      },
      "outputs": [],
      "source": [
        "## 각 판례의 이유, 요지, 참조조문, 참조판례를 가지고 오는 함수\n",
        "def get_info(url_list, topic): #데이터 프레임 반환\n",
        "    reason = []\n",
        "    summary = []\n",
        "    reflaw = []\n",
        "    refcases = []\n",
        "    for i in tqdm(url_list):\n",
        "        resp = requests.get(i) # 각 판례의 url을 통해 html을 가져온다.\n",
        "        soup = bs(resp.content, 'lxml') # html을 파싱한다.\n",
        "        if soup.select('div.reason'):  # 각 판례의 이유를 가지고 온다.\n",
        "            for z in soup.select('div.reason'):\n",
        "                reason.append(z.text) # 각 판례의 이유를 reason에 저장한다.\n",
        "        else:\n",
        "            reason.append('no data') # 이유가 없는 경우 no data를 저장한다.\n",
        "        if soup.select('div.summary'): # 각 판례의 요지를 가지고 온다.\n",
        "            for j in soup.select('div.summary'):\n",
        "                summary.append(j.text) # 각 판례의 요지를 summary에 저장한다.\n",
        "        else:\n",
        "            summary.append('no data') # 요지가 없는 경우 no data를 저장한다.\n",
        "        if soup.select('div.reflaws'): # 각 판례의 참조조문을 가지고 온다.\n",
        "            for x in soup.select('div.reflaws'):\n",
        "                reflaw.append(x.text) # 각 판례의 참조조문을 reflaw에 저장한다.\n",
        "        else:\n",
        "            reflaw.append('no data')\n",
        "        if soup.select('div.refcases'): # 각 판례의 참조판례를 가지고 온다.\n",
        "            for y in soup.select('div.refcases'):\n",
        "                refcases.append(y.text) # 각 판례의 참조판례를 refcases에 저장한다.\n",
        "        else:\n",
        "            refcases.append('nodata')\n",
        "        time.sleep(3)\n",
        "    print(len(reason), len(reflaw), len(summary), len(refcases)) # 각 판례의 이유, 요지, 참조조문, 참조판례의 개수를 출력한다.\n",
        "    if len(reason) > 200:\n",
        "        reason = reason[:200]\n",
        "    if len(reflaw) >200:\n",
        "        reflaw = reflaw[:200]\n",
        "    df = pd.DataFrame({\"이유\": reason, \"참조 조문\": reflaw, \"요지\" :summary, \"참조 판례\" : refcases}) # 각 판례의 이유, 요지, 참조조문, 참조판례를 데이터 프레임으로 만든다.\n",
        "\n",
        "    df.to_csv(f\"{topic}결과.csv\", index = False)\n",
        "    return df"
      ]
    },
    {
      "cell_type": "code",
      "execution_count": 7,
      "id": "ea8f6fb8-ee59-4d2f-9be4-fa0e461f0e88",
      "metadata": {
        "id": "ea8f6fb8-ee59-4d2f-9be4-fa0e461f0e88"
      },
      "outputs": [],
      "source": [
        "## 각 주제의 판례를 크롤링하는 함수\n",
        "# 최종적인 구조\n",
        "def final(topic):\n",
        "    url_list = get_url(topic)\n",
        "    df  = get_info(url_list, topic)\n",
        "    print(f\"{topic} done!\")\n",
        "    return df"
      ]
    },
    {
      "cell_type": "code",
      "execution_count": 10,
      "id": "74a0dc28-ad39-42ab-9334-181728b10013",
      "metadata": {
        "id": "74a0dc28-ad39-42ab-9334-181728b10013"
      },
      "outputs": [],
      "source": [
        "file = []\n",
        "for i in os.listdir():\n",
        "    if 'csv' in i:\n",
        "        file.append(i)"
      ]
    },
    {
      "cell_type": "code",
      "execution_count": null,
      "id": "f1a4993c-fec9-4605-a7bc-a3b8b5757745",
      "metadata": {
        "id": "f1a4993c-fec9-4605-a7bc-a3b8b5757745"
      },
      "outputs": [],
      "source": [
        "for file in file:\n",
        "    temp_df = pd.read_csv(file)\n",
        "    temp_df.to_csv('')"
      ]
    }
  ],
  "metadata": {
    "kernelspec": {
      "display_name": "Python 3 (ipykernel)",
      "language": "python",
      "name": "python3"
    },
    "language_info": {
      "codemirror_mode": {
        "name": "ipython",
        "version": 3
      },
      "file_extension": ".py",
      "mimetype": "text/x-python",
      "name": "python",
      "nbconvert_exporter": "python",
      "pygments_lexer": "ipython3",
      "version": "3.8.16"
    },
    "colab": {
      "provenance": []
    }
  },
  "nbformat": 4,
  "nbformat_minor": 5
}